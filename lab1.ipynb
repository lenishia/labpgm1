{
 "cells": [
  {
   "cell_type": "code",
   "execution_count": 1,
   "metadata": {},
   "outputs": [
    {
     "name": "stdout",
     "output_type": "stream",
     "text": [
      "     Sky Air Temp Humidity    Wind Water Forecast EnjoySport\n",
      "0  Sunny     Warm   Normal  Strong  warm     Same        Yes\n",
      "1  Sunny     Warm     High  Strong  warm     Same        Yes\n",
      "2  Rainy     Cold     High  Strong  warm   Change         No\n",
      "3  Sunny     Warm     High  Strong  Cool   Change        Yes\n"
     ]
    }
   ],
   "source": [
    "import pandas as pd\n",
    "data = pd.read_csv('data.csv') \n",
    "columnLength = data.shape[1]\n",
    "print(data)"
   ]
  },
  {
   "cell_type": "code",
   "execution_count": 2,
   "metadata": {},
   "outputs": [],
   "source": [
    "h = ['0']*(columnLength-1)\n",
    "hp = []\n",
    "hn = []"
   ]
  },
  {
   "cell_type": "code",
   "execution_count": 6,
   "metadata": {},
   "outputs": [],
   "source": [
    "for trainingExample in data.values:\n",
    "    if trainingExample[-1]!='No':\n",
    "        hp.append(list(trainingExample))\n",
    "    else:\n",
    "        hn.append(list(trainingExample))"
   ]
  },
  {
   "cell_type": "code",
   "execution_count": 7,
   "metadata": {},
   "outputs": [],
   "source": [
    "for i in range(len(hp)):\n",
    "    for j in range(columnLength-1):\n",
    "        if(h[j]=='0'):\n",
    "            h[j] = hp[i][j]\n",
    "        if(h[j]!=hp[i][j]):\n",
    "            h[j]='?'\n",
    "        else:\n",
    "            h[j]=hp[i][j]"
   ]
  },
  {
   "cell_type": "code",
   "execution_count": 8,
   "metadata": {},
   "outputs": [
    {
     "name": "stdout",
     "output_type": "stream",
     "text": [
      "\n",
      "The possitive Hypothesis are\n",
      "[['Sunny', 'Warm', 'Normal', 'Strong', 'warm', 'Same', 'Yes'], ['Sunny', 'Warm', 'High', 'Strong', 'warm', 'Same', 'Yes'], ['Rainy', 'Cold', 'High', 'Strong', 'warm', 'Change', 'No'], ['Sunny', 'Warm', 'High', 'Strong', 'Cool', 'Change', 'Yes'], ['Sunny', 'Warm', 'Normal', 'Strong', 'warm', 'Same', 'Yes'], ['Sunny', 'Warm', 'High', 'Strong', 'warm', 'Same', 'Yes'], ['Sunny', 'Warm', 'High', 'Strong', 'Cool', 'Change', 'Yes']]\n",
      "\n",
      "The negative Hypothesis are\n",
      "[['Rainy', 'Cold', 'High', 'Strong', 'warm', 'Change', 'No']]\n",
      "\n",
      "The Maximally Specific Hypothesis is\n",
      "['?', '?', '?', 'Strong', '?', '?']\n"
     ]
    }
   ],
   "source": [
    "print('\\nThe possitive Hypothesis are')\n",
    "print(hp)\n",
    "print('\\nThe negative Hypothesis are')\n",
    "print(hn)\n",
    "print('\\nThe Maximally Specific Hypothesis is')\n",
    "print(h)"
   ]
  },
  {
   "cell_type": "code",
   "execution_count": null,
   "metadata": {},
   "outputs": [],
   "source": []
  }
 ],
 "metadata": {
  "kernelspec": {
   "display_name": "Python 3",
   "language": "python",
   "name": "python3"
  },
  "language_info": {
   "codemirror_mode": {
    "name": "ipython",
    "version": 3
   },
   "file_extension": ".py",
   "mimetype": "text/x-python",
   "name": "python",
   "nbconvert_exporter": "python",
   "pygments_lexer": "ipython3",
   "version": "3.8.3"
  }
 },
 "nbformat": 4,
 "nbformat_minor": 4
}
